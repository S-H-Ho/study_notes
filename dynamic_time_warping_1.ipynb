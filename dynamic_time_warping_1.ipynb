{
 "cells": [
  {
   "cell_type": "markdown",
   "metadata": {},
   "source": [
    "### In this series of notes, we focus on the Dynamic Time Warping algorithm and discuss its potential application in algorithmic trading. If you have any comments, please let us know.\n"
   ]
  },
  {
   "cell_type": "markdown",
   "metadata": {},
   "source": [
    "\n",
    "\n",
    "## In this first article, we introduce the basic idea of Dynamic Time Warping (DTW) briefly and its python implementation. \n",
    "\n",
    "#### DTW is a way to measure the distance between two sequences, which is distinguished from our usual (sum of) Euclidean distances due to its robustness to \"warping\". \n",
    "\n",
    "#####  Recall that the Euclidean distance between two vector, say, $x$ and $y$ are:\n",
    "$$ D(x, y) = \\sqrt{ (x_1 - y_1)^2 + (x_2 - y_1)^2 } $$.\n",
    "\n",
    "##### Then a straight forward way to compute the distance between two sequences is sum of the Euclidean distances between every single points and its counterpart:\n",
    "$$ Distance(A,B) = D(A_0, B_0) + D(A_1, B_1) + ....D(A_n, B_n) $$ \n",
    "##### where $A = A_0, A_1,....A_n$ and $B = B_0, B_1...B_n$ are two sequences. \n",
    "\n",
    "##### Everything looks good, right? Not really. In reality, the sequencess we got are not ideal at all. Most of time they are noisy or missing some part of it. So we need to know how to deal with those \"twisted\" sequences. \n",
    "\n",
    "##### Due to its ability to deal with those warping complexity, it has been widly used in the field of speech recognition. A very nice example (in Chinese) is in [1].\n",
    "\n",
    "##### Note that DTW gives us a \"measure\" not a \"metric\" though we mentioned that it is a way to measure the distance between two sequences in the very beginning. The triangle inequality is not guaranteed [2] (it is, however, obeyed for most of time).\n",
    "\n"
   ]
  },
  {
   "cell_type": "code",
   "execution_count": 1,
   "metadata": {
    "collapsed": false
   },
   "outputs": [
    {
     "name": "stdout",
     "output_type": "stream",
     "text": [
      "system info:\n",
      "2.7.12 |Anaconda 2.5.0 (x86_64)| (default, Jul  2 2016, 17:43:17) \n",
      "[GCC 4.2.1 (Based on Apple Inc. build 5658) (LLVM build 2336.11.00)]\n"
     ]
    }
   ],
   "source": [
    "import sys\n",
    "print(\"system info:\\n\" + sys.version)\n",
    "\n",
    "%matplotlib inline\n",
    "\n",
    "import os"
   ]
  },
  {
   "cell_type": "code",
   "execution_count": 2,
   "metadata": {
    "collapsed": true
   },
   "outputs": [],
   "source": [
    "import numpy as np  \n",
    "import pandas as pd \n",
    "import matplotlib.pyplot as plt"
   ]
  },
  {
   "cell_type": "markdown",
   "metadata": {},
   "source": [
    "* Distance Matrix\n",
    "\n",
    "#### Let us first construct the distance matrix. If we have two sequences $(a,b,c)$ and $(A,B,C)$, then the distance matrix is defined as:\n",
    "$\n",
    "Distance\\_Matrix = \n",
    "\\begin{pmatrix}\n",
    "dist(a,A) &  dist(a,B) & dist(a,C) \\\\\n",
    "dist(b,A) &  dist(b,B) & dist(b,C) \\\\\n",
    "dist(c,A) &  dist(c,B) & dist(c,C)\n",
    "\\end{pmatrix}\n",
    "$\n"
   ]
  },
  {
   "cell_type": "code",
   "execution_count": 3,
   "metadata": {
    "collapsed": true
   },
   "outputs": [],
   "source": [
    "def distance_matrix(arr1, arr2):\n",
    "    \"\"\"\n",
    "    In this function, we compute the Euclidean distance matrix between two sequences.\n",
    "    \n",
    "    We use two for loops to fill distance values into the cells for illustration reason.\n",
    "    \n",
    "    For a more compact form, simply use\n",
    "    distance = [ [ np.sqrt( (arr1[i] - arr2[j])**2 ) for i in np.arange(len(arr1))] for j in np.arange(len(arr2))]\n",
    "    \n",
    "    \"\"\"\n",
    "    \n",
    "\n",
    "    # construct an empty array\n",
    "    distance = np.ndarray(shape = (len(arr1), len(arr2)))\n",
    "    \n",
    "    for row in np.arange(len(arr1)):\n",
    "        for col  in np.arange(len(arr2)):\n",
    "            distance[row,col] = np.sqrt( (arr1[row] - arr2[col])**2 )\n",
    "    \n",
    "    return distance"
   ]
  },
  {
   "cell_type": "code",
   "execution_count": 4,
   "metadata": {
    "collapsed": false
   },
   "outputs": [
    {
     "name": "stdout",
     "output_type": "stream",
     "text": [
      "Array 1: [13  2  2  6 17]\n",
      "Array 2: [19 10  1  0 17]\n"
     ]
    }
   ],
   "source": [
    "# randomly generate two sequences\n",
    "np.random.seed(123)\n",
    "arr1 = np.random.choice(20, 5)\n",
    "arr2 = np.random.choice(20, 5)\n",
    "print \"Array 1:\", arr1\n",
    "print \"Array 2:\", arr2"
   ]
  },
  {
   "cell_type": "code",
   "execution_count": 5,
   "metadata": {
    "collapsed": false
   },
   "outputs": [
    {
     "data": {
      "text/html": [
       "<div>\n",
       "<table border=\"1\" class=\"dataframe\">\n",
       "  <thead>\n",
       "    <tr style=\"text-align: right;\">\n",
       "      <th></th>\n",
       "      <th>19</th>\n",
       "      <th>10</th>\n",
       "      <th>1</th>\n",
       "      <th>0</th>\n",
       "      <th>17</th>\n",
       "    </tr>\n",
       "  </thead>\n",
       "  <tbody>\n",
       "    <tr>\n",
       "      <th>13</th>\n",
       "      <td>6.0</td>\n",
       "      <td>3.0</td>\n",
       "      <td>12.0</td>\n",
       "      <td>13.0</td>\n",
       "      <td>4.0</td>\n",
       "    </tr>\n",
       "    <tr>\n",
       "      <th>2</th>\n",
       "      <td>17.0</td>\n",
       "      <td>8.0</td>\n",
       "      <td>1.0</td>\n",
       "      <td>2.0</td>\n",
       "      <td>15.0</td>\n",
       "    </tr>\n",
       "    <tr>\n",
       "      <th>2</th>\n",
       "      <td>17.0</td>\n",
       "      <td>8.0</td>\n",
       "      <td>1.0</td>\n",
       "      <td>2.0</td>\n",
       "      <td>15.0</td>\n",
       "    </tr>\n",
       "    <tr>\n",
       "      <th>6</th>\n",
       "      <td>13.0</td>\n",
       "      <td>4.0</td>\n",
       "      <td>5.0</td>\n",
       "      <td>6.0</td>\n",
       "      <td>11.0</td>\n",
       "    </tr>\n",
       "    <tr>\n",
       "      <th>17</th>\n",
       "      <td>2.0</td>\n",
       "      <td>7.0</td>\n",
       "      <td>16.0</td>\n",
       "      <td>17.0</td>\n",
       "      <td>0.0</td>\n",
       "    </tr>\n",
       "  </tbody>\n",
       "</table>\n",
       "</div>"
      ],
      "text/plain": [
       "      19   10    1     0     17\n",
       "13   6.0  3.0  12.0  13.0   4.0\n",
       "2   17.0  8.0   1.0   2.0  15.0\n",
       "2   17.0  8.0   1.0   2.0  15.0\n",
       "6   13.0  4.0   5.0   6.0  11.0\n",
       "17   2.0  7.0  16.0  17.0   0.0"
      ]
     },
     "execution_count": 5,
     "metadata": {},
     "output_type": "execute_result"
    }
   ],
   "source": [
    "a = distance_matrix(arr1, arr2)\n",
    "pd.DataFrame(a, index = arr1, columns = arr2)"
   ]
  },
  {
   "cell_type": "markdown",
   "metadata": {},
   "source": [
    "* Dynamic Time Warping (DTW)\n",
    "\n",
    "#### Now let us discuss the DTW algorithm with no constraints. If we would like to start the upper left corner of the distnace matrix and walk down to the lower right corner (that is, the fixed endpoints), then DTW is a way to figure out a path with the smallest accumulated distance.\n",
    "\n",
    "#### The only rule is that you can only move $\\downarrow$, $\\searrow$ and $\\rightarrow$ (monotonically increasing). Figure below shows the DTW path and basic step pattern, which is taken from Ref. [3]\n",
    "\n",
    "<img src=\"https://www.dropbox.com/s/lv7o8ogwc1s53tj/image23.png?dl=1\", width=\"512\">\n",
    "\n",
    "\n",
    "#### The solution is described by this recursion relation: $$ \\gamma(i,j) = dist(q_i, t_j) + min\\{ \\gamma(i-1,j), \\gamma(i-1,j-1), \\gamma(i,j-1)   \\},$$ where $\\gamma(i,j)$ is the accumulated distance at cell $(i,j)$ and $dis(q_i, t_j)$ is the distance between the $i$th element of query sequence Q and the $j$th element of template sequence T.\n"
   ]
  },
  {
   "cell_type": "code",
   "execution_count": 6,
   "metadata": {
    "collapsed": false
   },
   "outputs": [],
   "source": [
    "def dtw_basic(arr1, arr2, alignment_curve = False, gen_plot = True):\n",
    "    \"\"\"\n",
    "    This function shows a basic DTW calculation with two multi-dimensional arrays.\n",
    "\n",
    "    Notice that we modified the outputs a litte, it outputs (dtw_distance, dtw_matrix) now.\n",
    "    \"\"\"\n",
    "\n",
    "    # initialize the dtw array\n",
    "    dtw = np.zeros(shape = (len(arr1), len(arr2)))\n",
    "\n",
    "    for row in range(dtw.shape[0]):\n",
    "        for col in range(dtw.shape[1]):\n",
    "            # calculate distance between arr1[row] and arr2[col]\n",
    "            # here we use Euclidean distance\n",
    "            dist = np.sqrt( np.sum( (arr1[row] - arr2[col])**2 ) )\n",
    "\n",
    "            # the starting point\n",
    "            if row == 0 and col == 0:\n",
    "                dtw[row, col] = dist\n",
    "            # we can only go right along the upmost row\n",
    "            elif row == 0:\n",
    "                dtw[row, col] = dist + dtw[row, col - 1]\n",
    "            # we can only go down along the leftmost column\n",
    "            elif col == 0:\n",
    "                dtw[row, col] = dist + dtw[row-1, col]\n",
    "            # the recursive relation\n",
    "            else:\n",
    "                dtw[row, col] = dist + min(dtw[row-1, col], dtw[row-1, col-1], dtw[row, col-1])\n",
    "\n",
    "    # alignment curve\n",
    "    if alignment_curve:\n",
    "\n",
    "        row = 0\n",
    "        col = 0\n",
    "        alignment = [ [row, col] ]\n",
    "\n",
    "        while row != dtw.shape[0] - 1 or col != dtw.shape[1] - 1:\n",
    "            if row == dtw.shape[0] - 1:\n",
    "                col += 1\n",
    "            elif col == dtw.shape[1] - 1:\n",
    "                row += 1\n",
    "            else:\n",
    "                idx = np.argsort( [ dtw[row+1, col], dtw[row+1, col+1], dtw[row, col+1] ]  )[0]\n",
    "                if idx == 0:\n",
    "                    row += 1\n",
    "                elif  idx == 1:\n",
    "                    row += 1\n",
    "                    col += 1\n",
    "                else:\n",
    "                    col += 1\n",
    "            alignment.append([row, col])\n",
    "\n",
    "        alignment = np.array(map(np.array, alignment))\n",
    "\n",
    "    if gen_plot:\n",
    "        # plotting\n",
    "        fig = plt.figure(figsize = (5,5))\n",
    "        plt.imshow( dtw )\n",
    "        plt.xlim(-0.1, dtw.shape[1] - 1)\n",
    "        plt.ylim(dtw.shape[0] - 1, -0.1)\n",
    "        plt.title(\"Basic Dynamic Time Warping Matrix Heat Map\")\n",
    "        if alignment_curve:\n",
    "            plt.plot( alignment[:,1], alignment[:,0], linewidth = 3, color = 'white', label = 'alignment curve')\n",
    "            plt.legend(loc = 'best')\n",
    "        plt.show()\n",
    "\n",
    "    if alignment_curve:\n",
    "        return dtw, alignment\n",
    "    else:\n",
    "        return dtw"
   ]
  },
  {
   "cell_type": "code",
   "execution_count": 7,
   "metadata": {
    "collapsed": false,
    "scrolled": false
   },
   "outputs": [
    {
     "data": {
      "image/png": "[encoded data removed]",
      "text/plain": [
       "<matplotlib.figure.Figure at 0x114369b90>"
      ]
     },
     "metadata": {},
     "output_type": "display_data"
    },
    {
     "data": {
      "text/html": [
       "<div>\n",
       "<table border=\"1\" class=\"dataframe\">\n",
       "  <thead>\n",
       "    <tr style=\"text-align: right;\">\n",
       "      <th></th>\n",
       "      <th>19</th>\n",
       "      <th>10</th>\n",
       "      <th>1</th>\n",
       "      <th>0</th>\n",
       "      <th>17</th>\n",
       "    </tr>\n",
       "  </thead>\n",
       "  <tbody>\n",
       "    <tr>\n",
       "      <th>13</th>\n",
       "      <td>6.0</td>\n",
       "      <td>9.0</td>\n",
       "      <td>21.0</td>\n",
       "      <td>34.0</td>\n",
       "      <td>38.0</td>\n",
       "    </tr>\n",
       "    <tr>\n",
       "      <th>2</th>\n",
       "      <td>23.0</td>\n",
       "      <td>14.0</td>\n",
       "      <td>10.0</td>\n",
       "      <td>12.0</td>\n",
       "      <td>27.0</td>\n",
       "    </tr>\n",
       "    <tr>\n",
       "      <th>2</th>\n",
       "      <td>40.0</td>\n",
       "      <td>22.0</td>\n",
       "      <td>11.0</td>\n",
       "      <td>12.0</td>\n",
       "      <td>27.0</td>\n",
       "    </tr>\n",
       "    <tr>\n",
       "      <th>6</th>\n",
       "      <td>53.0</td>\n",
       "      <td>26.0</td>\n",
       "      <td>16.0</td>\n",
       "      <td>17.0</td>\n",
       "      <td>23.0</td>\n",
       "    </tr>\n",
       "    <tr>\n",
       "      <th>17</th>\n",
       "      <td>55.0</td>\n",
       "      <td>33.0</td>\n",
       "      <td>32.0</td>\n",
       "      <td>33.0</td>\n",
       "      <td>17.0</td>\n",
       "    </tr>\n",
       "  </tbody>\n",
       "</table>\n",
       "</div>"
      ],
      "text/plain": [
       "      19    10    1     0     17\n",
       "13   6.0   9.0  21.0  34.0  38.0\n",
       "2   23.0  14.0  10.0  12.0  27.0\n",
       "2   40.0  22.0  11.0  12.0  27.0\n",
       "6   53.0  26.0  16.0  17.0  23.0\n",
       "17  55.0  33.0  32.0  33.0  17.0"
      ]
     },
     "execution_count": 7,
     "metadata": {},
     "output_type": "execute_result"
    }
   ],
   "source": [
    "# show the DTW alignment curve\n",
    "b = dtw_basic(arr1, arr2)\n",
    "pd.DataFrame(b, index = arr1, columns = arr2)"
   ]
  },
  {
   "cell_type": "markdown",
   "metadata": {},
   "source": [
    "### Note added:\n",
    "\n",
    "#### From the second code block, we can see the most criticized disadvantage of DTW: its space and time complexity are both $O(n^2)$. This is two for loops in the code, which gives $n\\times n$ time steps and $n \\times n$ cells to remember. The good new is that there exists various of ways to reduce both time and space complexity. And we will discuss in the future notebook.\n"
   ]
  },
  {
   "cell_type": "markdown",
   "metadata": {},
   "source": [
    "\n",
    "### References:\n",
    "\n",
    "\n",
    "[1] [動態時間歸整 | DTW | Dynamic Time Warping, McKelvin's Blog](http://blog.mckelv.in/articles/1453.html)\n",
    "\n",
    "[2] [Dynamic time warping - Wikipedia](https://en.wikipedia.org/wiki/Dynamic_time_warping)\n",
    "\n",
    "[3] [Similarity Measures and Dimensionality Reduction Techniques for Time Series Data Mining, Carmelo Cassisi, Placido Montalto, Marco Aliotta, Andrea Cannata and Alfredo Pulvirenti](https://www.intechopen.com/books/advances-in-data-mining-knowledge-discovery-and-applications/similarity-measures-and-dimensionality-reduction-techniques-for-time-series-data-mining)\n",
    "\n",
    "\n",
    "\n"
   ]
  },
  {
   "cell_type": "code",
   "execution_count": null,
   "metadata": {
    "collapsed": true
   },
   "outputs": [],
   "source": []
  }
 ],
 "metadata": {
  "kernelspec": {
   "display_name": "Python 2",
   "language": "python",
   "name": "python2"
  },
  "language_info": {
   "codemirror_mode": {
    "name": "ipython",
    "version": 2
   },
   "file_extension": ".py",
   "mimetype": "text/x-python",
   "name": "python",
   "nbconvert_exporter": "python",
   "pygments_lexer": "ipython2",
   "version": "2.7.12"
  }
 },
 "nbformat": 4,
 "nbformat_minor": 0
}
